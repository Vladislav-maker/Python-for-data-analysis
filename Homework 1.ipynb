{
  "nbformat": 4,
  "nbformat_minor": 0,
  "metadata": {
    "colab": {
      "provenance": []
    },
    "kernelspec": {
      "name": "python3",
      "display_name": "Python 3"
    },
    "language_info": {
      "name": "python"
    }
  },
  "cells": [
    {
      "cell_type": "code",
      "execution_count": null,
      "metadata": {
        "id": "jdvzZmJvnIb-"
      },
      "outputs": [],
      "source": [
        "class Chocolate:\n",
        "  def __init__(self, price_choc : float, add_choc = None):\n",
        "\n",
        "    if price_choc > 0:\n",
        "      self.price_choc = price_choc\n",
        "    else:\n",
        "      raise ValueError('Цена меньше нуля')\n",
        "\n",
        "    self.add_choc = add_choc\n",
        "\n",
        "  def show_my_chocolate(self):\n",
        "      if self.add_choc == None:\n",
        "        print('Обычный шоколадный батончик')\n",
        "      else:\n",
        "        print(f'Шоколадный батончик, добавка: {self.add_choc}')\n",
        "\n",
        "  def __str__(self):\n",
        "    return f'Шоколадный батончик, {self.price_choc} рублей'\n",
        "\n"
      ]
    },
    {
      "cell_type": "code",
      "source": [
        "ex_1 =  Chocolate(10)\n"
      ],
      "metadata": {
        "id": "fWlfljuwqG4T"
      },
      "execution_count": null,
      "outputs": []
    },
    {
      "cell_type": "code",
      "source": [
        "print(ex_1)"
      ],
      "metadata": {
        "colab": {
          "base_uri": "https://localhost:8080/"
        },
        "id": "4yDG_gBGqme7",
        "outputId": "28f8e7a2-9e31-461c-d5b2-c09c650351e6"
      },
      "execution_count": null,
      "outputs": [
        {
          "output_type": "stream",
          "name": "stdout",
          "text": [
            "Шоколадный батончик, 10 рублей\n"
          ]
        }
      ]
    },
    {
      "cell_type": "code",
      "source": [
        "ex_1.show_my_chocolate()"
      ],
      "metadata": {
        "colab": {
          "base_uri": "https://localhost:8080/"
        },
        "id": "MoolJcZ5qqay",
        "outputId": "d32e8a74-bd5e-4b6c-a6d6-42ec052de007"
      },
      "execution_count": null,
      "outputs": [
        {
          "output_type": "stream",
          "name": "stdout",
          "text": [
            "Обычный шоколадный батончик\n"
          ]
        }
      ]
    },
    {
      "cell_type": "code",
      "source": [
        "ex_2 = Chocolate(-10, 'смузи')"
      ],
      "metadata": {
        "colab": {
          "base_uri": "https://localhost:8080/",
          "height": 269
        },
        "id": "cbaYUfjwqw_e",
        "outputId": "81f29455-6e3b-40d3-8e15-2ef70a0af837"
      },
      "execution_count": null,
      "outputs": [
        {
          "output_type": "error",
          "ename": "ValueError",
          "evalue": "Цена меньше нуля",
          "traceback": [
            "\u001b[0;31m---------------------------------------------------------------------------\u001b[0m",
            "\u001b[0;31mValueError\u001b[0m                                Traceback (most recent call last)",
            "\u001b[0;32m<ipython-input-6-7c92d7de4421>\u001b[0m in \u001b[0;36m<cell line: 0>\u001b[0;34m()\u001b[0m\n\u001b[0;32m----> 1\u001b[0;31m \u001b[0mex_2\u001b[0m \u001b[0;34m=\u001b[0m \u001b[0mChocolate\u001b[0m\u001b[0;34m(\u001b[0m\u001b[0;34m-\u001b[0m\u001b[0;36m10\u001b[0m\u001b[0;34m,\u001b[0m \u001b[0;34m'смузи'\u001b[0m\u001b[0;34m)\u001b[0m\u001b[0;34m\u001b[0m\u001b[0;34m\u001b[0m\u001b[0m\n\u001b[0m",
            "\u001b[0;32m<ipython-input-2-9aac63720ffe>\u001b[0m in \u001b[0;36m__init__\u001b[0;34m(self, price_choc, add_choc)\u001b[0m\n\u001b[1;32m      5\u001b[0m       \u001b[0mself\u001b[0m\u001b[0;34m.\u001b[0m\u001b[0mprice_choc\u001b[0m \u001b[0;34m=\u001b[0m \u001b[0mprice_choc\u001b[0m\u001b[0;34m\u001b[0m\u001b[0;34m\u001b[0m\u001b[0m\n\u001b[1;32m      6\u001b[0m     \u001b[0;32melse\u001b[0m\u001b[0;34m:\u001b[0m\u001b[0;34m\u001b[0m\u001b[0;34m\u001b[0m\u001b[0m\n\u001b[0;32m----> 7\u001b[0;31m       \u001b[0;32mraise\u001b[0m \u001b[0mValueError\u001b[0m\u001b[0;34m(\u001b[0m\u001b[0;34m'Цена меньше нуля'\u001b[0m\u001b[0;34m)\u001b[0m\u001b[0;34m\u001b[0m\u001b[0;34m\u001b[0m\u001b[0m\n\u001b[0m\u001b[1;32m      8\u001b[0m \u001b[0;34m\u001b[0m\u001b[0m\n\u001b[1;32m      9\u001b[0m     \u001b[0mself\u001b[0m\u001b[0;34m.\u001b[0m\u001b[0madd_choc\u001b[0m \u001b[0;34m=\u001b[0m \u001b[0madd_choc\u001b[0m\u001b[0;34m\u001b[0m\u001b[0;34m\u001b[0m\u001b[0m\n",
            "\u001b[0;31mValueError\u001b[0m: Цена меньше нуля"
          ]
        }
      ]
    },
    {
      "cell_type": "code",
      "source": [
        "ex_3 = Chocolate(50, 'смузи')"
      ],
      "metadata": {
        "id": "X8V-Fokpq4Ql"
      },
      "execution_count": null,
      "outputs": []
    },
    {
      "cell_type": "code",
      "source": [
        "ex_3.show_my_chocolate()"
      ],
      "metadata": {
        "id": "_iDs0DYfq7xI",
        "outputId": "ac3eeb51-b4b1-4de2-c39d-8451c2e01144",
        "colab": {
          "base_uri": "https://localhost:8080/"
        }
      },
      "execution_count": null,
      "outputs": [
        {
          "output_type": "stream",
          "name": "stdout",
          "text": [
            "Шоколадный батончик, добавка: смузи\n"
          ]
        }
      ]
    },
    {
      "cell_type": "code",
      "source": [
        "print(ex_3)"
      ],
      "metadata": {
        "id": "hZML02GOq-tp",
        "outputId": "d90698de-b70d-4f24-a39b-b6be607f8d58",
        "colab": {
          "base_uri": "https://localhost:8080/"
        }
      },
      "execution_count": null,
      "outputs": [
        {
          "output_type": "stream",
          "name": "stdout",
          "text": [
            "Шоколадный батончик, 50 рублей\n"
          ]
        }
      ]
    },
    {
      "cell_type": "code",
      "source": [],
      "metadata": {
        "id": "y8CpfTyirBJx"
      },
      "execution_count": null,
      "outputs": []
    }
  ]
}